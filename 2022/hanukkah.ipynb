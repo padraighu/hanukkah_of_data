{
 "cells": [
  {
   "cell_type": "code",
   "execution_count": null,
   "metadata": {
    "id": "xzAdnAMYMObI"
   },
   "outputs": [],
   "source": [
    "import pandas as pd\n",
    "import sqlite3"
   ]
  },
  {
   "cell_type": "code",
   "execution_count": null,
   "metadata": {
    "colab": {
     "base_uri": "https://localhost:8080/"
    },
    "id": "K9SlOIVTUerg",
    "outputId": "ab2c6e8f-9b04-48f5-a824-03be213cc3d8"
   },
   "outputs": [],
   "source": [
    "!wget https://hanukkah.bluebird.sh/5783/noahs-sqlite.zip"
   ]
  },
  {
   "cell_type": "code",
   "execution_count": null,
   "metadata": {
    "colab": {
     "base_uri": "https://localhost:8080/"
    },
    "id": "rbdiXabnUhlg",
    "outputId": "4dea50b0-b43c-486b-d947-618024178a63"
   },
   "outputs": [],
   "source": [
    "!unzip -P 5777 noahs-sqlite.zip"
   ]
  },
  {
   "cell_type": "code",
   "execution_count": null,
   "metadata": {
    "id": "EUrnJ2l_MSHQ"
   },
   "outputs": [],
   "source": [
    "con = sqlite3.connect(\"noahs.sqlite\")"
   ]
  },
  {
   "cell_type": "code",
   "execution_count": null,
   "metadata": {
    "id": "k1uSpGWIMy1y"
   },
   "outputs": [],
   "source": [
    "customers = pd.read_sql(\n",
    "    \"\"\"\n",
    "select *\n",
    "from customers\n",
    "\"\"\",\n",
    "    con,\n",
    ")"
   ]
  },
  {
   "cell_type": "code",
   "execution_count": null,
   "metadata": {
    "id": "2qQjRnJHRIKC"
   },
   "outputs": [],
   "source": [
    "orders = pd.read_sql(\n",
    "    \"\"\"\n",
    "select *\n",
    "from orders\n",
    "\"\"\",\n",
    "    con,\n",
    ")"
   ]
  },
  {
   "cell_type": "code",
   "execution_count": null,
   "metadata": {
    "id": "OYF6CQG4Ur5I"
   },
   "outputs": [],
   "source": [
    "order_items = pd.read_sql(\n",
    "    \"\"\"\n",
    "select *\n",
    "from orders_items\n",
    "\"\"\",\n",
    "    con,\n",
    ")"
   ]
  },
  {
   "cell_type": "code",
   "execution_count": null,
   "metadata": {
    "id": "r3wALWgSU0yY"
   },
   "outputs": [],
   "source": [
    "products = pd.read_sql(\n",
    "    \"\"\"\n",
    "select *\n",
    "from products\n",
    "\"\"\",\n",
    "    con,\n",
    ")"
   ]
  },
  {
   "cell_type": "code",
   "execution_count": null,
   "metadata": {
    "id": "ygZf7KBXOuqT"
   },
   "outputs": [],
   "source": [
    "orders[\"ordered\"] = pd.to_datetime(orders[\"ordered\"])\n",
    "orders[\"shipped\"] = pd.to_datetime(orders[\"shipped\"])\n",
    "customers[\"customerid\"] = customers[\"customerid\"].astype(str)\n",
    "order_items[\"orderid\"] = order_items[\"orderid\"].astype(str)"
   ]
  },
  {
   "cell_type": "code",
   "execution_count": null,
   "metadata": {
    "id": "8J5pI9_SNI-8"
   },
   "outputs": [],
   "source": [
    "def name_to_phone(name: str) -> str:\n",
    "    lname = name.split(\" \")[-1]\n",
    "    if len(lname) != 10:\n",
    "        return \"BAD\"\n",
    "    phone = \"\"\n",
    "    for c in lname:\n",
    "        c = c.lower()\n",
    "        curr = \"\"\n",
    "        if c in (\"a\", \"b\", \"c\"):\n",
    "            curr = \"2\"\n",
    "        elif c in (\"d\", \"e\", \"f\"):\n",
    "            curr = \"3\"\n",
    "        elif c in (\"g\", \"h\", \"i\"):\n",
    "            curr = \"4\"\n",
    "        elif c in (\"j\", \"k\", \"l\"):\n",
    "            curr = \"5\"\n",
    "        elif c in (\"m\", \"n\", \"o\"):\n",
    "            curr = \"6\"\n",
    "        elif c in (\"p\", \"q\", \"r\", \"s\"):\n",
    "            curr = \"7\"\n",
    "        elif c in (\"t\", \"u\", \"v\"):\n",
    "            curr = \"8\"\n",
    "        elif c in (\"w\", \"x\", \"y\", \"z\"):\n",
    "            curr = \"9\"\n",
    "        phone += curr\n",
    "    phone = phone[:3] + \"-\" + phone[3:6] + \"-\" + phone[6:]\n",
    "    return phone"
   ]
  },
  {
   "cell_type": "code",
   "execution_count": null,
   "metadata": {
    "id": "Vez599ArQflU"
   },
   "outputs": [],
   "source": [
    "def initials(name: str) -> str:\n",
    "    names = name.split(\" \")\n",
    "    return names[0][0] + names[-1][0]"
   ]
  },
  {
   "cell_type": "code",
   "execution_count": null,
   "metadata": {
    "id": "8DHcl5wLNAB9"
   },
   "outputs": [],
   "source": [
    "customers[\"translated\"] = customers[\"name\"].apply(name_to_phone)"
   ]
  },
  {
   "cell_type": "code",
   "execution_count": null,
   "metadata": {
    "id": "IY4GKpMIQs-1"
   },
   "outputs": [],
   "source": [
    "customers[\"initials\"] = customers[\"name\"].apply(initials)"
   ]
  },
  {
   "cell_type": "code",
   "execution_count": null,
   "metadata": {
    "colab": {
     "base_uri": "https://localhost:8080/",
     "height": 81
    },
    "id": "5IFhxt9iNH1z",
    "outputId": "5a3d76f8-7bbd-4e05-e28d-c5dc1dcdb0c7"
   },
   "outputs": [],
   "source": [
    "# puzzle 1\n",
    "customers[customers[\"translated\"] == customers[\"phone\"]]"
   ]
  },
  {
   "cell_type": "code",
   "execution_count": null,
   "metadata": {
    "id": "77PzP92s555Z"
   },
   "outputs": [],
   "source": [
    "df = (\n",
    "    customers.merge(orders, on=\"customerid\")\n",
    "    .merge(order_items, on=\"orderid\")\n",
    "    .merge(products, on=\"sku\")\n",
    ")"
   ]
  },
  {
   "cell_type": "code",
   "execution_count": null,
   "metadata": {
    "colab": {
     "base_uri": "https://localhost:8080/",
     "height": 300
    },
    "id": "NBBi2_MgI0Kg",
    "outputId": "f1e7a4f2-c8b2-4238-a412-c7b66068ca41"
   },
   "outputs": [],
   "source": [
    "# puzzle 2\n",
    "orders_by_jd_in_2017 = df[\"initials\"] == \"JD\"\n",
    "orders_by_jd_in_2017 &= df[\"ordered\"].dt.year == 2017\n",
    "bought_these = df[\"desc\"].str.contains(\"Bagel\")\n",
    "bought_these |= df[\"desc\"].str.contains(\"Coffee\")\n",
    "bought_these |= df[\"desc\"].str.contains(\"Clean\")\n",
    "(\n",
    "    df[orders_by_jd_in_2017 & bought_these][\n",
    "        list(customers.columns) + (list(products.columns))\n",
    "    ]\n",
    "    .drop_duplicates()\n",
    "    .sort_values(\"customerid\")\n",
    ")"
   ]
  },
  {
   "cell_type": "code",
   "execution_count": null,
   "metadata": {
    "id": "13GURI6iVKLY"
   },
   "outputs": [],
   "source": [
    "def is_aries(bd: str) -> bool:\n",
    "    bd_split = bd.split(\"-\")\n",
    "    y = int(bd_split[0])\n",
    "    m = int(bd_split[1])\n",
    "    d = int(bd_split[2])\n",
    "    return (m == 3 and d >= 21) or (m == 4 and d <= 19)"
   ]
  },
  {
   "cell_type": "code",
   "execution_count": null,
   "metadata": {
    "colab": {
     "base_uri": "https://localhost:8080/"
    },
    "id": "iJvJPt25V-Jm",
    "outputId": "3028ff48-4a0f-4173-9aec-8ef19d608607"
   },
   "outputs": [],
   "source": [
    "# birth year range?\n",
    "customers[\"birthdate\"].max(), customers[\"birthdate\"].min()"
   ]
  },
  {
   "cell_type": "code",
   "execution_count": null,
   "metadata": {
    "id": "hoqU-rMqWdx9"
   },
   "outputs": [],
   "source": [
    "def got_that_dawg_in_em(bd: str) -> bool:\n",
    "    bd_split = bd.split(\"-\")\n",
    "    y = int(bd_split[0])\n",
    "    return y % 12 == 2"
   ]
  },
  {
   "cell_type": "code",
   "execution_count": null,
   "metadata": {
    "colab": {
     "base_uri": "https://localhost:8080/",
     "height": 81
    },
    "id": "UB3Qg3DhXdHC",
    "outputId": "0b199d82-9cde-4cd8-ffc4-278dccee7b6f"
   },
   "outputs": [],
   "source": [
    "# puzzle 3\n",
    "# looking for person with the same zipcode as the contractor\n",
    "aries_dog = customers[\"birthdate\"].apply(is_aries)\n",
    "aries_dog &= customers[\"birthdate\"].apply(got_that_dawg_in_em)\n",
    "neighbor = customers[\"citystatezip\"].str.contains(\"11420\")\n",
    "customers[aries_dog & neighbor]"
   ]
  },
  {
   "cell_type": "code",
   "execution_count": null,
   "metadata": {
    "id": "P6B8kfxbRYC2"
   },
   "outputs": [],
   "source": [
    "df[\"shipped_date\"] = df[\"shipped\"].dt.date"
   ]
  },
  {
   "cell_type": "code",
   "execution_count": null,
   "metadata": {
    "colab": {
     "base_uri": "https://localhost:8080/",
     "height": 206
    },
    "id": "wNTNSZnKQg4t",
    "outputId": "795c1dd3-9a09-4618-9a28-beefebcd4af1"
   },
   "outputs": [],
   "source": [
    "# puzzle 4\n",
    "# do the filtering based on clues\n",
    "# for each date, find the earliest pastries purchased\n",
    "# could just go over the list of customers at this point\n",
    "# however, can do a customer count at the end and clearly\n",
    "# see one particular customer habitually buying pastries before dawn\n",
    "bought_pastries = df[\"sku\"].str.startswith(\"BKY\")\n",
    "weeks_later = \"2017-04-05\" <= df[\"shipped\"].dt.date.astype(str)\n",
    "before_dawn = df[\"shipped\"].dt.time.astype(str) <= \"05:00:00\"\n",
    "(\n",
    "    df[bought_pastries & before_dawn]\n",
    "    .sort_values(\"shipped\")\n",
    "    .groupby(\"shipped_date\")\n",
    "    .first()[list(customers.columns) + [\"ordered\", \"shipped\", \"sku\", \"desc\"]]\n",
    ")[[\"name\", \"phone\"]].value_counts().nlargest(5).reset_index()"
   ]
  },
  {
   "cell_type": "code",
   "execution_count": null,
   "metadata": {
    "colab": {
     "base_uri": "https://localhost:8080/",
     "height": 206
    },
    "id": "10A23cYxF9Jr",
    "outputId": "a4008676-3166-44c9-9b77-df40bbf5a88a"
   },
   "outputs": [],
   "source": [
    "# puzzle 5\n",
    "queens_village = df[\"citystatezip\"].str.contains(\"Queens Village\")\n",
    "catfood = df[\"desc\"].str.contains(\"Cat\")\n",
    "df[queens_village & catfood][customers.columns].drop_duplicates()"
   ]
  },
  {
   "cell_type": "code",
   "execution_count": null,
   "metadata": {
    "id": "cqiU5fFbHFcC"
   },
   "outputs": [],
   "source": [
    "df[\"pnl\"] = (df[\"unit_price\"] - df[\"wholesale_cost\"]) * df[\"qty\"]"
   ]
  },
  {
   "cell_type": "code",
   "execution_count": null,
   "metadata": {
    "colab": {
     "base_uri": "https://localhost:8080/",
     "height": 394
    },
    "id": "IJSYfUN30Wx3",
    "outputId": "d2ffaa94-794f-48b3-95dd-1dee70cd51c8"
   },
   "outputs": [],
   "source": [
    "# puzzle 6\n",
    "pnl_by_order = (\n",
    "    df.groupby([\"customerid\", \"name\", \"phone\", \"orderid\"])\n",
    "    .agg({\"pnl\": \"sum\"})\n",
    "    .reset_index()\n",
    ")\n",
    "pnl_by_order[\"noah_lost_money\"] = pnl_by_order[\"pnl\"] < 0\n",
    "profitability_by_customer = (\n",
    "    pnl_by_order.groupby([\"name\", \"phone\"])\n",
    "    .agg({\"noah_lost_money\": [\"sum\", \"count\"]})\n",
    "    .reset_index()\n",
    ")\n",
    "profitability_by_customer[\"loss_percentage\"] = (\n",
    "    profitability_by_customer[\"noah_lost_money\"][\"sum\"]\n",
    "    / profitability_by_customer[\"noah_lost_money\"][\"count\"]\n",
    ")\n",
    "profitability_by_customer.nlargest(10, [\"loss_percentage\"])"
   ]
  },
  {
   "cell_type": "code",
   "execution_count": null,
   "metadata": {
    "colab": {
     "base_uri": "https://localhost:8080/",
     "height": 269
    },
    "id": "HpZyMxXN06rQ",
    "outputId": "75fd762f-a085-41e1-9767-8e172e8f7f48"
   },
   "outputs": [],
   "source": [
    "# puzzle 7\n",
    "bought_by_her = df[\"name\"] == \"Emily Randolph\"\n",
    "desc_has_color = df[\"desc\"].str.contains(\"\\(\")\n",
    "df[\"desc_no_color\"] = df[\"desc\"].str.split(\" \").apply(lambda x: \" \".join(x[:2]))\n",
    "\n",
    "swapped_item = df[bought_by_her & desc_has_color][\n",
    "    [\"shipped_date\", \"desc_no_color\", \"desc\"]\n",
    "].merge(\n",
    "    df[~bought_by_her][[\"shipped_date\", \"desc_no_color\", \"desc\", \"name\", \"phone\"]],\n",
    "    on=[\"shipped_date\", \"desc_no_color\"],\n",
    ")\n",
    "swapped_item[swapped_item[\"desc_x\"] != swapped_item[\"desc_y\"]]"
   ]
  },
  {
   "cell_type": "code",
   "execution_count": null,
   "metadata": {
    "colab": {
     "base_uri": "https://localhost:8080/",
     "height": 363
    },
    "id": "ib9OgR1E4web",
    "outputId": "851c1163-777b-4a73-cbd2-ffecf1185d21"
   },
   "outputs": [],
   "source": [
    "# puzzle 8\n",
    "noahs_collection = df[\"sku\"].str.startswith(\"COL\")\n",
    "(\n",
    "    df[noahs_collection]\n",
    "    .drop_duplicates([\"name\", \"phone\", \"sku\", \"desc\"])\n",
    "    .groupby([\"name\", \"phone\"])\n",
    "    .nunique()[\"sku\"]\n",
    "    .reset_index()\n",
    "    .nlargest(10, \"sku\")\n",
    ")"
   ]
  },
  {
   "cell_type": "code",
   "execution_count": null,
   "metadata": {
    "id": "qyiIqVdFSdUu"
   },
   "outputs": [],
   "source": []
  }
 ],
 "metadata": {
  "colab": {
   "provenance": []
  },
  "kernelspec": {
   "display_name": "Python 3",
   "name": "python3"
  },
  "language_info": {
   "name": "python"
  }
 },
 "nbformat": 4,
 "nbformat_minor": 0
}
